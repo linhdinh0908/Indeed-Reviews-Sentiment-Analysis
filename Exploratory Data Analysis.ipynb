{
 "cells": [
  {
   "cell_type": "code",
   "execution_count": 2,
   "metadata": {},
   "outputs": [],
   "source": [
    "import pandas as pd\n",
    "import numpy as np\n",
    "import matplotlib.pyplot as plt"
   ]
  },
  {
   "cell_type": "code",
   "execution_count": 6,
   "metadata": {},
   "outputs": [],
   "source": [
    "df = pd.read_csv('Scotiabank-Indeed-Reviews.csv')"
   ]
  },
  {
   "cell_type": "code",
   "execution_count": 5,
   "metadata": {},
   "outputs": [
    {
     "data": {
      "text/html": [
       "<div>\n",
       "<style scoped>\n",
       "    .dataframe tbody tr th:only-of-type {\n",
       "        vertical-align: middle;\n",
       "    }\n",
       "\n",
       "    .dataframe tbody tr th {\n",
       "        vertical-align: top;\n",
       "    }\n",
       "\n",
       "    .dataframe thead th {\n",
       "        text-align: right;\n",
       "    }\n",
       "</style>\n",
       "<table border=\"1\" class=\"dataframe\">\n",
       "  <thead>\n",
       "    <tr style=\"text-align: right;\">\n",
       "      <th></th>\n",
       "      <th>Unnamed: 0</th>\n",
       "      <th>location</th>\n",
       "      <th>date</th>\n",
       "      <th>job</th>\n",
       "      <th>rating</th>\n",
       "      <th>review_title</th>\n",
       "      <th>review_content</th>\n",
       "    </tr>\n",
       "  </thead>\n",
       "  <tbody>\n",
       "    <tr>\n",
       "      <th>0</th>\n",
       "      <td>0</td>\n",
       "      <td>Toronto, ON</td>\n",
       "      <td>2 November 2020</td>\n",
       "      <td>Financial Advisor</td>\n",
       "      <td>4.0</td>\n",
       "      <td>A Great Place to Start Your Career in Financia...</td>\n",
       "      <td>If you are just out of school or finishing a d...</td>\n",
       "    </tr>\n",
       "    <tr>\n",
       "      <th>1</th>\n",
       "      <td>1</td>\n",
       "      <td>Montréal, QC</td>\n",
       "      <td>23 June 2021</td>\n",
       "      <td>Agent de perception</td>\n",
       "      <td>1.0</td>\n",
       "      <td>Poor management</td>\n",
       "      <td>Poor management and leadership, one team leade...</td>\n",
       "    </tr>\n",
       "    <tr>\n",
       "      <th>2</th>\n",
       "      <td>2</td>\n",
       "      <td>Calgary, AB</td>\n",
       "      <td>12 June 2021</td>\n",
       "      <td>Customer Service Representative</td>\n",
       "      <td>1.0</td>\n",
       "      <td>This corporation is the devil - do not work here</td>\n",
       "      <td>I worked as CSR and it was the worst job I've ...</td>\n",
       "    </tr>\n",
       "    <tr>\n",
       "      <th>3</th>\n",
       "      <td>3</td>\n",
       "      <td>Sackville, NB</td>\n",
       "      <td>9 June 2021</td>\n",
       "      <td>Scotiabank Senior Financial Advisor</td>\n",
       "      <td>1.0</td>\n",
       "      <td>Poor management, bad support teams no work lif...</td>\n",
       "      <td>Thave been working for 15 years including 4 co...</td>\n",
       "    </tr>\n",
       "    <tr>\n",
       "      <th>4</th>\n",
       "      <td>4</td>\n",
       "      <td>Trenton, ON</td>\n",
       "      <td>7 June 2021</td>\n",
       "      <td>Financial Advisor</td>\n",
       "      <td>1.0</td>\n",
       "      <td>Toxic envirnoment</td>\n",
       "      <td>The culture in this bank was toxic for myself ...</td>\n",
       "    </tr>\n",
       "  </tbody>\n",
       "</table>\n",
       "</div>"
      ],
      "text/plain": [
       "   Unnamed: 0         location              date  \\\n",
       "0           0     Toronto, ON    2 November 2020   \n",
       "1           1    Montréal, QC       23 June 2021   \n",
       "2           2     Calgary, AB       12 June 2021   \n",
       "3           3   Sackville, NB        9 June 2021   \n",
       "4           4     Trenton, ON        7 June 2021   \n",
       "\n",
       "                                   job  rating  \\\n",
       "0                    Financial Advisor     4.0   \n",
       "1                  Agent de perception     1.0   \n",
       "2      Customer Service Representative     1.0   \n",
       "3  Scotiabank Senior Financial Advisor     1.0   \n",
       "4                    Financial Advisor     1.0   \n",
       "\n",
       "                                        review_title  \\\n",
       "0  A Great Place to Start Your Career in Financia...   \n",
       "1                                   Poor management    \n",
       "2   This corporation is the devil - do not work here   \n",
       "3  Poor management, bad support teams no work lif...   \n",
       "4                                  Toxic envirnoment   \n",
       "\n",
       "                                      review_content  \n",
       "0  If you are just out of school or finishing a d...  \n",
       "1  Poor management and leadership, one team leade...  \n",
       "2  I worked as CSR and it was the worst job I've ...  \n",
       "3  Thave been working for 15 years including 4 co...  \n",
       "4  The culture in this bank was toxic for myself ...  "
      ]
     },
     "execution_count": 5,
     "metadata": {},
     "output_type": "execute_result"
    }
   ],
   "source": [
    "df.head()"
   ]
  },
  {
   "cell_type": "code",
   "execution_count": 11,
   "metadata": {},
   "outputs": [
    {
     "data": {
      "text/plain": [
       "(array([ 199.,    0.,  157.,    0.,    0.,  559.,    0., 1006.,    0.,\n",
       "         809.]),\n",
       " array([1. , 1.4, 1.8, 2.2, 2.6, 3. , 3.4, 3.8, 4.2, 4.6, 5. ]),\n",
       " <a list of 10 Patch objects>)"
      ]
     },
     "execution_count": 11,
     "metadata": {},
     "output_type": "execute_result"
    },
    {
     "data": {
      "image/png": "[encoded data removed]",
      "text/plain": [
       "<Figure size 432x288 with 1 Axes>"
      ]
     },
     "metadata": {
      "needs_background": "light"
     },
     "output_type": "display_data"
    }
   ],
   "source": [
    "plt.hist(df['rating'])"
   ]
  },
  {
   "cell_type": "code",
   "execution_count": 12,
   "metadata": {},
   "outputs": [
    {
     "data": {
      "text/plain": [
       "array([4., 1., 5., 2., 3.])"
      ]
     },
     "execution_count": 12,
     "metadata": {},
     "output_type": "execute_result"
    }
   ],
   "source": [
    "df['rating'].unique()"
   ]
  },
  {
   "cell_type": "code",
   "execution_count": null,
   "metadata": {},
   "outputs": [],
   "source": []
  }
 ],
 "metadata": {
  "kernelspec": {
   "display_name": "Python 3",
   "language": "python",
   "name": "python3"
  },
  "language_info": {
   "codemirror_mode": {
    "name": "ipython",
    "version": 3
   },
   "file_extension": ".py",
   "mimetype": "text/x-python",
   "name": "python",
   "nbconvert_exporter": "python",
   "pygments_lexer": "ipython3",
   "version": "3.8.3"
  }
 },
 "nbformat": 4,
 "nbformat_minor": 4
}
