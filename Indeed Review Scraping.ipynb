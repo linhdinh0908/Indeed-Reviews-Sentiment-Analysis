{
 "cells": [
  {
   "cell_type": "code",
   "execution_count": 2,
   "metadata": {},
   "outputs": [],
   "source": [
    "import requests\n",
    "from bs4 import BeautifulSoup as bs\n",
    "import pandas as pd\n",
    "import matplotlib as plt"
   ]
  },
  {
   "cell_type": "code",
   "execution_count": 11,
   "metadata": {},
   "outputs": [],
   "source": [
    "# Create soup object\n",
    "reponse = requests.get(\"https://ca.indeed.com/cmp/Scotiabank/reviews?start=20\")\n",
    "soup = bs(reponse.text,'html.parser') "
   ]
  },
  {
   "cell_type": "code",
   "execution_count": 59,
   "metadata": {},
   "outputs": [],
   "source": [
    "df = pd.DataFrame({'job_title':[], 'location':[],'rating':[],'review_title':[],'review':[]})"
   ]
  },
  {
   "cell_type": "code",
   "execution_count": 60,
   "metadata": {},
   "outputs": [],
   "source": [
    "job_title = soup.find_all('a', class_=\"cmp-ReviewAuthor-link\")[0].text\n",
    "location = soup.find_all('a', class_=\"cmp-ReviewAuthor-link\")[1].text\n",
    "rating = soup.find('button', class_=\"cmp-ReviewRating-text\").text\n",
    "review_title = soup.find('div', class_=\"cmp-Review-title\").text\n",
    "review = soup.find('div', class_=\"cmp-Review-text\").text"
   ]
  },
  {
   "cell_type": "code",
   "execution_count": null,
   "metadata": {},
   "outputs": [],
   "source": []
  },
  {
   "cell_type": "code",
   "execution_count": null,
   "metadata": {},
   "outputs": [],
   "source": []
  }
 ],
 "metadata": {
  "kernelspec": {
   "display_name": "Python 3",
   "language": "python",
   "name": "python3"
  },
  "language_info": {
   "codemirror_mode": {
    "name": "ipython",
    "version": 3
   },
   "file_extension": ".py",
   "mimetype": "text/x-python",
   "name": "python",
   "nbconvert_exporter": "python",
   "pygments_lexer": "ipython3",
   "version": "3.8.3"
  }
 },
 "nbformat": 4,
 "nbformat_minor": 4
}
