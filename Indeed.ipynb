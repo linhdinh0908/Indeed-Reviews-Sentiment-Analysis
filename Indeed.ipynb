{
 "cells": [
  {
   "cell_type": "markdown",
   "metadata": {},
   "source": [
    "## Scrape reviews from Indeed"
   ]
  },
  {
   "cell_type": "code",
   "execution_count": 1,
   "metadata": {},
   "outputs": [],
   "source": [
    "import requests\n",
    "import numpy as np\n",
    "from bs4 import BeautifulSoup as bs\n",
    "import pandas as pd"
   ]
  },
  {
   "cell_type": "code",
   "execution_count": 2,
   "metadata": {},
   "outputs": [],
   "source": [
    "# Create a DataFrame\n",
    "df = pd.DataFrame({'job':[],'info':[],'rating':[],'review_title':[],'review_content':[]})"
   ]
  },
  {
   "cell_type": "code",
   "execution_count": 3,
   "metadata": {
    "scrolled": false
   },
   "outputs": [],
   "source": [
    "# Create soup object and parse text html\n",
    "for i in range(0,2600,20):\n",
    "    url = 'https://ca.indeed.com/cmp/Scotiabank/reviews?start={}&lang=en'.format(i)\n",
    "    r = requests.get(url)\n",
    "    soup = bs(r.text,'html.parser')\n",
    "    result = soup.find('div',class_=\"cmp-ReviewsList\")\n",
    "    elements = result.find_all('div',class_='css-lqffld-Box eu4oa1w0')\n",
    "    for element in elements:\n",
    "        job = element.find('a',class_='css-91nj6e-Link emf9s7v0')\n",
    "        if isinstance(job, type(None)):\n",
    "            job =\"Anonymous\"\n",
    "        else:\n",
    "            job = job.text\n",
    "        info = element.find('div',class_='css-1ikgorc-Text e1wnkr790').text\n",
    "        rating = element.find('button', class_='css-1hmmasr-Text e1wnkr790').text       \n",
    "        review_title = element.find('h2', class_='css-1i3kt4y-Heading e1tiznh50').text\n",
    "        review_content = element.find('div', class_='css-ebcgx4-Box eu4oa1w0').text\n",
    "        df = df.append({'job':job,'info':info,'rating':rating,'review_title': review_title,'review_content':review_content},ignore_index=True)"
   ]
  },
  {
   "cell_type": "code",
   "execution_count": 4,
   "metadata": {},
   "outputs": [
    {
     "data": {
      "text/html": [
       "<div>\n",
       "<style scoped>\n",
       "    .dataframe tbody tr th:only-of-type {\n",
       "        vertical-align: middle;\n",
       "    }\n",
       "\n",
       "    .dataframe tbody tr th {\n",
       "        vertical-align: top;\n",
       "    }\n",
       "\n",
       "    .dataframe thead th {\n",
       "        text-align: right;\n",
       "    }\n",
       "</style>\n",
       "<table border=\"1\" class=\"dataframe\">\n",
       "  <thead>\n",
       "    <tr style=\"text-align: right;\">\n",
       "      <th></th>\n",
       "      <th>job</th>\n",
       "      <th>info</th>\n",
       "      <th>rating</th>\n",
       "      <th>review_title</th>\n",
       "      <th>review_content</th>\n",
       "    </tr>\n",
       "  </thead>\n",
       "  <tbody>\n",
       "    <tr>\n",
       "      <th>1883</th>\n",
       "      <td>Anonymous</td>\n",
       "      <td>Anonymous (Former Employee) - Anonymous - 10 J...</td>\n",
       "      <td>2.0</td>\n",
       "      <td>Cheap parking</td>\n",
       "      <td>SDA is an ok place to work but their values ar...</td>\n",
       "    </tr>\n",
       "  </tbody>\n",
       "</table>\n",
       "</div>"
      ],
      "text/plain": [
       "            job                                               info rating  \\\n",
       "1883  Anonymous  Anonymous (Former Employee) - Anonymous - 10 J...    2.0   \n",
       "\n",
       "       review_title                                     review_content  \n",
       "1883  Cheap parking  SDA is an ok place to work but their values ar...  "
      ]
     },
     "execution_count": 4,
     "metadata": {},
     "output_type": "execute_result"
    }
   ],
   "source": [
    "df.loc[df['job']==\"Anonymous\"]"
   ]
  },
  {
   "cell_type": "code",
   "execution_count": 5,
   "metadata": {},
   "outputs": [
    {
     "data": {
      "text/plain": [
       "(2730, 5)"
      ]
     },
     "execution_count": 5,
     "metadata": {},
     "output_type": "execute_result"
    }
   ],
   "source": [
    "df.shape"
   ]
  },
  {
   "cell_type": "code",
   "execution_count": 6,
   "metadata": {},
   "outputs": [
    {
     "data": {
      "text/html": [
       "<div>\n",
       "<style scoped>\n",
       "    .dataframe tbody tr th:only-of-type {\n",
       "        vertical-align: middle;\n",
       "    }\n",
       "\n",
       "    .dataframe tbody tr th {\n",
       "        vertical-align: top;\n",
       "    }\n",
       "\n",
       "    .dataframe thead th {\n",
       "        text-align: right;\n",
       "    }\n",
       "</style>\n",
       "<table border=\"1\" class=\"dataframe\">\n",
       "  <thead>\n",
       "    <tr style=\"text-align: right;\">\n",
       "      <th></th>\n",
       "      <th>job</th>\n",
       "      <th>info</th>\n",
       "      <th>rating</th>\n",
       "      <th>review_title</th>\n",
       "      <th>review_content</th>\n",
       "    </tr>\n",
       "  </thead>\n",
       "  <tbody>\n",
       "    <tr>\n",
       "      <th>count</th>\n",
       "      <td>2730</td>\n",
       "      <td>2730</td>\n",
       "      <td>2730</td>\n",
       "      <td>2730</td>\n",
       "      <td>2730</td>\n",
       "    </tr>\n",
       "    <tr>\n",
       "      <th>unique</th>\n",
       "      <td>1338</td>\n",
       "      <td>2598</td>\n",
       "      <td>5</td>\n",
       "      <td>2192</td>\n",
       "      <td>2597</td>\n",
       "    </tr>\n",
       "    <tr>\n",
       "      <th>top</th>\n",
       "      <td>Financial Advisor</td>\n",
       "      <td>Financial Advisor (Former Employee) - Toronto,...</td>\n",
       "      <td>4.0</td>\n",
       "      <td>A Great Place to Start Your Career in Financia...</td>\n",
       "      <td>If you are just out of school or finishing a d...</td>\n",
       "    </tr>\n",
       "    <tr>\n",
       "      <th>freq</th>\n",
       "      <td>299</td>\n",
       "      <td>130</td>\n",
       "      <td>1006</td>\n",
       "      <td>130</td>\n",
       "      <td>130</td>\n",
       "    </tr>\n",
       "  </tbody>\n",
       "</table>\n",
       "</div>"
      ],
      "text/plain": [
       "                      job                                               info  \\\n",
       "count                2730                                               2730   \n",
       "unique               1338                                               2598   \n",
       "top     Financial Advisor  Financial Advisor (Former Employee) - Toronto,...   \n",
       "freq                  299                                                130   \n",
       "\n",
       "       rating                                       review_title  \\\n",
       "count    2730                                               2730   \n",
       "unique      5                                               2192   \n",
       "top       4.0  A Great Place to Start Your Career in Financia...   \n",
       "freq     1006                                                130   \n",
       "\n",
       "                                           review_content  \n",
       "count                                                2730  \n",
       "unique                                               2597  \n",
       "top     If you are just out of school or finishing a d...  \n",
       "freq                                                  130  "
      ]
     },
     "execution_count": 6,
     "metadata": {},
     "output_type": "execute_result"
    }
   ],
   "source": [
    "df.describe()"
   ]
  },
  {
   "cell_type": "code",
   "execution_count": 7,
   "metadata": {},
   "outputs": [
    {
     "name": "stdout",
     "output_type": "stream",
     "text": [
      "<class 'pandas.core.frame.DataFrame'>\n",
      "RangeIndex: 2730 entries, 0 to 2729\n",
      "Data columns (total 5 columns):\n",
      " #   Column          Non-Null Count  Dtype \n",
      "---  ------          --------------  ----- \n",
      " 0   job             2730 non-null   object\n",
      " 1   info            2730 non-null   object\n",
      " 2   rating          2730 non-null   object\n",
      " 3   review_title    2730 non-null   object\n",
      " 4   review_content  2730 non-null   object\n",
      "dtypes: object(5)\n",
      "memory usage: 106.8+ KB\n"
     ]
    }
   ],
   "source": [
    "df.info()"
   ]
  },
  {
   "cell_type": "markdown",
   "metadata": {},
   "source": [
    "## Reorganize columns"
   ]
  },
  {
   "cell_type": "code",
   "execution_count": 18,
   "metadata": {},
   "outputs": [
    {
     "data": {
      "text/html": [
       "<div>\n",
       "<style scoped>\n",
       "    .dataframe tbody tr th:only-of-type {\n",
       "        vertical-align: middle;\n",
       "    }\n",
       "\n",
       "    .dataframe tbody tr th {\n",
       "        vertical-align: top;\n",
       "    }\n",
       "\n",
       "    .dataframe thead th {\n",
       "        text-align: right;\n",
       "    }\n",
       "</style>\n",
       "<table border=\"1\" class=\"dataframe\">\n",
       "  <thead>\n",
       "    <tr style=\"text-align: right;\">\n",
       "      <th></th>\n",
       "      <th>0</th>\n",
       "      <th>1</th>\n",
       "      <th>2</th>\n",
       "      <th>3</th>\n",
       "      <th>4</th>\n",
       "    </tr>\n",
       "  </thead>\n",
       "  <tbody>\n",
       "    <tr>\n",
       "      <th>0</th>\n",
       "      <td>Financial Advisor (Former Employee)</td>\n",
       "      <td>Toronto, ON</td>\n",
       "      <td>2 November 2020</td>\n",
       "      <td>None</td>\n",
       "      <td>None</td>\n",
       "    </tr>\n",
       "    <tr>\n",
       "      <th>1</th>\n",
       "      <td>Agent de perception (Former Employee)</td>\n",
       "      <td>Montréal, QC</td>\n",
       "      <td>23 June 2021</td>\n",
       "      <td>None</td>\n",
       "      <td>None</td>\n",
       "    </tr>\n",
       "    <tr>\n",
       "      <th>2</th>\n",
       "      <td>Customer Service Representative (Former Employ...</td>\n",
       "      <td>Calgary, AB</td>\n",
       "      <td>12 June 2021</td>\n",
       "      <td>None</td>\n",
       "      <td>None</td>\n",
       "    </tr>\n",
       "    <tr>\n",
       "      <th>3</th>\n",
       "      <td>Scotiabank Senior Financial Advisor (Current E...</td>\n",
       "      <td>Sackville, NB</td>\n",
       "      <td>9 June 2021</td>\n",
       "      <td>None</td>\n",
       "      <td>None</td>\n",
       "    </tr>\n",
       "    <tr>\n",
       "      <th>4</th>\n",
       "      <td>Financial Advisor (Former Employee)</td>\n",
       "      <td>Trenton, ON</td>\n",
       "      <td>7 June 2021</td>\n",
       "      <td>None</td>\n",
       "      <td>None</td>\n",
       "    </tr>\n",
       "  </tbody>\n",
       "</table>\n",
       "</div>"
      ],
      "text/plain": [
       "                                                   0                1  \\\n",
       "0               Financial Advisor (Former Employee)      Toronto, ON    \n",
       "1             Agent de perception (Former Employee)     Montréal, QC    \n",
       "2  Customer Service Representative (Former Employ...     Calgary, AB    \n",
       "3  Scotiabank Senior Financial Advisor (Current E...   Sackville, NB    \n",
       "4               Financial Advisor (Former Employee)      Trenton, ON    \n",
       "\n",
       "                  2     3     4  \n",
       "0   2 November 2020  None  None  \n",
       "1      23 June 2021  None  None  \n",
       "2      12 June 2021  None  None  \n",
       "3       9 June 2021  None  None  \n",
       "4       7 June 2021  None  None  "
      ]
     },
     "execution_count": 18,
     "metadata": {},
     "output_type": "execute_result"
    }
   ],
   "source": [
    "# split info column\n",
    "temp_df = df['info'].str.split('-',expand=True)\n",
    "temp_df.head()"
   ]
  },
  {
   "cell_type": "code",
   "execution_count": 19,
   "metadata": {},
   "outputs": [
    {
     "data": {
      "text/html": [
       "<div>\n",
       "<style scoped>\n",
       "    .dataframe tbody tr th:only-of-type {\n",
       "        vertical-align: middle;\n",
       "    }\n",
       "\n",
       "    .dataframe tbody tr th {\n",
       "        vertical-align: top;\n",
       "    }\n",
       "\n",
       "    .dataframe thead th {\n",
       "        text-align: right;\n",
       "    }\n",
       "</style>\n",
       "<table border=\"1\" class=\"dataframe\">\n",
       "  <thead>\n",
       "    <tr style=\"text-align: right;\">\n",
       "      <th></th>\n",
       "      <th>1</th>\n",
       "      <th>2</th>\n",
       "    </tr>\n",
       "  </thead>\n",
       "  <tbody>\n",
       "    <tr>\n",
       "      <th>0</th>\n",
       "      <td>Toronto, ON</td>\n",
       "      <td>2 November 2020</td>\n",
       "    </tr>\n",
       "    <tr>\n",
       "      <th>1</th>\n",
       "      <td>Montréal, QC</td>\n",
       "      <td>23 June 2021</td>\n",
       "    </tr>\n",
       "    <tr>\n",
       "      <th>2</th>\n",
       "      <td>Calgary, AB</td>\n",
       "      <td>12 June 2021</td>\n",
       "    </tr>\n",
       "    <tr>\n",
       "      <th>3</th>\n",
       "      <td>Sackville, NB</td>\n",
       "      <td>9 June 2021</td>\n",
       "    </tr>\n",
       "    <tr>\n",
       "      <th>4</th>\n",
       "      <td>Trenton, ON</td>\n",
       "      <td>7 June 2021</td>\n",
       "    </tr>\n",
       "  </tbody>\n",
       "</table>\n",
       "</div>"
      ],
      "text/plain": [
       "                 1                 2\n",
       "0     Toronto, ON    2 November 2020\n",
       "1    Montréal, QC       23 June 2021\n",
       "2     Calgary, AB       12 June 2021\n",
       "3   Sackville, NB        9 June 2021\n",
       "4     Trenton, ON        7 June 2021"
      ]
     },
     "execution_count": 19,
     "metadata": {},
     "output_type": "execute_result"
    }
   ],
   "source": [
    "# Delete unnecessary columns\n",
    "temp_df = temp_df.drop([0,3,4],axis=1)\n",
    "temp_df.head()"
   ]
  },
  {
   "cell_type": "code",
   "execution_count": 20,
   "metadata": {},
   "outputs": [
    {
     "data": {
      "text/html": [
       "<div>\n",
       "<style scoped>\n",
       "    .dataframe tbody tr th:only-of-type {\n",
       "        vertical-align: middle;\n",
       "    }\n",
       "\n",
       "    .dataframe tbody tr th {\n",
       "        vertical-align: top;\n",
       "    }\n",
       "\n",
       "    .dataframe thead th {\n",
       "        text-align: right;\n",
       "    }\n",
       "</style>\n",
       "<table border=\"1\" class=\"dataframe\">\n",
       "  <thead>\n",
       "    <tr style=\"text-align: right;\">\n",
       "      <th></th>\n",
       "      <th>location</th>\n",
       "      <th>date</th>\n",
       "    </tr>\n",
       "  </thead>\n",
       "  <tbody>\n",
       "    <tr>\n",
       "      <th>0</th>\n",
       "      <td>Toronto, ON</td>\n",
       "      <td>2 November 2020</td>\n",
       "    </tr>\n",
       "    <tr>\n",
       "      <th>1</th>\n",
       "      <td>Montréal, QC</td>\n",
       "      <td>23 June 2021</td>\n",
       "    </tr>\n",
       "    <tr>\n",
       "      <th>2</th>\n",
       "      <td>Calgary, AB</td>\n",
       "      <td>12 June 2021</td>\n",
       "    </tr>\n",
       "    <tr>\n",
       "      <th>3</th>\n",
       "      <td>Sackville, NB</td>\n",
       "      <td>9 June 2021</td>\n",
       "    </tr>\n",
       "    <tr>\n",
       "      <th>4</th>\n",
       "      <td>Trenton, ON</td>\n",
       "      <td>7 June 2021</td>\n",
       "    </tr>\n",
       "  </tbody>\n",
       "</table>\n",
       "</div>"
      ],
      "text/plain": [
       "          location              date\n",
       "0     Toronto, ON    2 November 2020\n",
       "1    Montréal, QC       23 June 2021\n",
       "2     Calgary, AB       12 June 2021\n",
       "3   Sackville, NB        9 June 2021\n",
       "4     Trenton, ON        7 June 2021"
      ]
     },
     "execution_count": 20,
     "metadata": {},
     "output_type": "execute_result"
    }
   ],
   "source": [
    "# Rename columns\n",
    "temp_df = temp_df.rename (columns={1:'location', 2:'date'})\n",
    "temp_df.head()"
   ]
  },
  {
   "cell_type": "code",
   "execution_count": 21,
   "metadata": {},
   "outputs": [],
   "source": [
    "# Merge 2 DataFrame\n",
    "final_df = pd.concat([temp_df,df],axis=1)"
   ]
  },
  {
   "cell_type": "code",
   "execution_count": 22,
   "metadata": {},
   "outputs": [
    {
     "data": {
      "text/html": [
       "<div>\n",
       "<style scoped>\n",
       "    .dataframe tbody tr th:only-of-type {\n",
       "        vertical-align: middle;\n",
       "    }\n",
       "\n",
       "    .dataframe tbody tr th {\n",
       "        vertical-align: top;\n",
       "    }\n",
       "\n",
       "    .dataframe thead th {\n",
       "        text-align: right;\n",
       "    }\n",
       "</style>\n",
       "<table border=\"1\" class=\"dataframe\">\n",
       "  <thead>\n",
       "    <tr style=\"text-align: right;\">\n",
       "      <th></th>\n",
       "      <th>location</th>\n",
       "      <th>date</th>\n",
       "      <th>job</th>\n",
       "      <th>info</th>\n",
       "      <th>rating</th>\n",
       "      <th>review_title</th>\n",
       "      <th>review_content</th>\n",
       "    </tr>\n",
       "  </thead>\n",
       "  <tbody>\n",
       "    <tr>\n",
       "      <th>0</th>\n",
       "      <td>Toronto, ON</td>\n",
       "      <td>2 November 2020</td>\n",
       "      <td>Financial Advisor</td>\n",
       "      <td>Financial Advisor (Former Employee) - Toronto,...</td>\n",
       "      <td>4.0</td>\n",
       "      <td>A Great Place to Start Your Career in Financia...</td>\n",
       "      <td>If you are just out of school or finishing a d...</td>\n",
       "    </tr>\n",
       "    <tr>\n",
       "      <th>1</th>\n",
       "      <td>Montréal, QC</td>\n",
       "      <td>23 June 2021</td>\n",
       "      <td>Agent de perception</td>\n",
       "      <td>Agent de perception (Former Employee) - Montré...</td>\n",
       "      <td>1.0</td>\n",
       "      <td>Poor management</td>\n",
       "      <td>Poor management and leadership, one team leade...</td>\n",
       "    </tr>\n",
       "    <tr>\n",
       "      <th>2</th>\n",
       "      <td>Calgary, AB</td>\n",
       "      <td>12 June 2021</td>\n",
       "      <td>Customer Service Representative</td>\n",
       "      <td>Customer Service Representative (Former Employ...</td>\n",
       "      <td>1.0</td>\n",
       "      <td>This corporation is the devil - do not work here</td>\n",
       "      <td>I worked as CSR and it was the worst job I've ...</td>\n",
       "    </tr>\n",
       "    <tr>\n",
       "      <th>3</th>\n",
       "      <td>Sackville, NB</td>\n",
       "      <td>9 June 2021</td>\n",
       "      <td>Scotiabank Senior Financial Advisor</td>\n",
       "      <td>Scotiabank Senior Financial Advisor (Current E...</td>\n",
       "      <td>1.0</td>\n",
       "      <td>Poor management, bad support teams no work lif...</td>\n",
       "      <td>Thave been working for 15 years including 4 co...</td>\n",
       "    </tr>\n",
       "    <tr>\n",
       "      <th>4</th>\n",
       "      <td>Trenton, ON</td>\n",
       "      <td>7 June 2021</td>\n",
       "      <td>Financial Advisor</td>\n",
       "      <td>Financial Advisor (Former Employee) - Trenton,...</td>\n",
       "      <td>1.0</td>\n",
       "      <td>Toxic envirnoment</td>\n",
       "      <td>The culture in this bank was toxic for myself ...</td>\n",
       "    </tr>\n",
       "  </tbody>\n",
       "</table>\n",
       "</div>"
      ],
      "text/plain": [
       "          location              date                                  job  \\\n",
       "0     Toronto, ON    2 November 2020                    Financial Advisor   \n",
       "1    Montréal, QC       23 June 2021                  Agent de perception   \n",
       "2     Calgary, AB       12 June 2021      Customer Service Representative   \n",
       "3   Sackville, NB        9 June 2021  Scotiabank Senior Financial Advisor   \n",
       "4     Trenton, ON        7 June 2021                    Financial Advisor   \n",
       "\n",
       "                                                info rating  \\\n",
       "0  Financial Advisor (Former Employee) - Toronto,...    4.0   \n",
       "1  Agent de perception (Former Employee) - Montré...    1.0   \n",
       "2  Customer Service Representative (Former Employ...    1.0   \n",
       "3  Scotiabank Senior Financial Advisor (Current E...    1.0   \n",
       "4  Financial Advisor (Former Employee) - Trenton,...    1.0   \n",
       "\n",
       "                                        review_title  \\\n",
       "0  A Great Place to Start Your Career in Financia...   \n",
       "1                                   Poor management    \n",
       "2   This corporation is the devil - do not work here   \n",
       "3  Poor management, bad support teams no work lif...   \n",
       "4                                  Toxic envirnoment   \n",
       "\n",
       "                                      review_content  \n",
       "0  If you are just out of school or finishing a d...  \n",
       "1  Poor management and leadership, one team leade...  \n",
       "2  I worked as CSR and it was the worst job I've ...  \n",
       "3  Thave been working for 15 years including 4 co...  \n",
       "4  The culture in this bank was toxic for myself ...  "
      ]
     },
     "execution_count": 22,
     "metadata": {},
     "output_type": "execute_result"
    }
   ],
   "source": [
    "final_df.head()"
   ]
  },
  {
   "cell_type": "code",
   "execution_count": 23,
   "metadata": {},
   "outputs": [],
   "source": [
    "final_df = final_df.drop(columns=['info'])"
   ]
  },
  {
   "cell_type": "code",
   "execution_count": 25,
   "metadata": {},
   "outputs": [],
   "source": [
    "final_df['rating']=pd.to_numeric(final_df['rating'])"
   ]
  },
  {
   "cell_type": "code",
   "execution_count": 26,
   "metadata": {},
   "outputs": [
    {
     "data": {
      "text/html": [
       "<div>\n",
       "<style scoped>\n",
       "    .dataframe tbody tr th:only-of-type {\n",
       "        vertical-align: middle;\n",
       "    }\n",
       "\n",
       "    .dataframe tbody tr th {\n",
       "        vertical-align: top;\n",
       "    }\n",
       "\n",
       "    .dataframe thead th {\n",
       "        text-align: right;\n",
       "    }\n",
       "</style>\n",
       "<table border=\"1\" class=\"dataframe\">\n",
       "  <thead>\n",
       "    <tr style=\"text-align: right;\">\n",
       "      <th></th>\n",
       "      <th>location</th>\n",
       "      <th>date</th>\n",
       "      <th>job</th>\n",
       "      <th>rating</th>\n",
       "      <th>review_title</th>\n",
       "      <th>review_content</th>\n",
       "    </tr>\n",
       "  </thead>\n",
       "  <tbody>\n",
       "    <tr>\n",
       "      <th>0</th>\n",
       "      <td>Toronto, ON</td>\n",
       "      <td>2 November 2020</td>\n",
       "      <td>Financial Advisor</td>\n",
       "      <td>4.0</td>\n",
       "      <td>A Great Place to Start Your Career in Financia...</td>\n",
       "      <td>If you are just out of school or finishing a d...</td>\n",
       "    </tr>\n",
       "    <tr>\n",
       "      <th>1</th>\n",
       "      <td>Montréal, QC</td>\n",
       "      <td>23 June 2021</td>\n",
       "      <td>Agent de perception</td>\n",
       "      <td>1.0</td>\n",
       "      <td>Poor management</td>\n",
       "      <td>Poor management and leadership, one team leade...</td>\n",
       "    </tr>\n",
       "    <tr>\n",
       "      <th>2</th>\n",
       "      <td>Calgary, AB</td>\n",
       "      <td>12 June 2021</td>\n",
       "      <td>Customer Service Representative</td>\n",
       "      <td>1.0</td>\n",
       "      <td>This corporation is the devil - do not work here</td>\n",
       "      <td>I worked as CSR and it was the worst job I've ...</td>\n",
       "    </tr>\n",
       "    <tr>\n",
       "      <th>3</th>\n",
       "      <td>Sackville, NB</td>\n",
       "      <td>9 June 2021</td>\n",
       "      <td>Scotiabank Senior Financial Advisor</td>\n",
       "      <td>1.0</td>\n",
       "      <td>Poor management, bad support teams no work lif...</td>\n",
       "      <td>Thave been working for 15 years including 4 co...</td>\n",
       "    </tr>\n",
       "    <tr>\n",
       "      <th>4</th>\n",
       "      <td>Trenton, ON</td>\n",
       "      <td>7 June 2021</td>\n",
       "      <td>Financial Advisor</td>\n",
       "      <td>1.0</td>\n",
       "      <td>Toxic envirnoment</td>\n",
       "      <td>The culture in this bank was toxic for myself ...</td>\n",
       "    </tr>\n",
       "  </tbody>\n",
       "</table>\n",
       "</div>"
      ],
      "text/plain": [
       "          location              date                                  job  \\\n",
       "0     Toronto, ON    2 November 2020                    Financial Advisor   \n",
       "1    Montréal, QC       23 June 2021                  Agent de perception   \n",
       "2     Calgary, AB       12 June 2021      Customer Service Representative   \n",
       "3   Sackville, NB        9 June 2021  Scotiabank Senior Financial Advisor   \n",
       "4     Trenton, ON        7 June 2021                    Financial Advisor   \n",
       "\n",
       "   rating                                       review_title  \\\n",
       "0     4.0  A Great Place to Start Your Career in Financia...   \n",
       "1     1.0                                   Poor management    \n",
       "2     1.0   This corporation is the devil - do not work here   \n",
       "3     1.0  Poor management, bad support teams no work lif...   \n",
       "4     1.0                                  Toxic envirnoment   \n",
       "\n",
       "                                      review_content  \n",
       "0  If you are just out of school or finishing a d...  \n",
       "1  Poor management and leadership, one team leade...  \n",
       "2  I worked as CSR and it was the worst job I've ...  \n",
       "3  Thave been working for 15 years including 4 co...  \n",
       "4  The culture in this bank was toxic for myself ...  "
      ]
     },
     "execution_count": 26,
     "metadata": {},
     "output_type": "execute_result"
    }
   ],
   "source": [
    "final_df.head()"
   ]
  },
  {
   "cell_type": "code",
   "execution_count": 27,
   "metadata": {},
   "outputs": [
    {
     "data": {
      "text/plain": [
       "(2730, 6)"
      ]
     },
     "execution_count": 27,
     "metadata": {},
     "output_type": "execute_result"
    }
   ],
   "source": [
    "final_df.shape"
   ]
  },
  {
   "cell_type": "code",
   "execution_count": 29,
   "metadata": {},
   "outputs": [],
   "source": [
    "final_df.to_csv('Scotiabank-Indeed-Reviews.csv')"
   ]
  },
  {
   "cell_type": "code",
   "execution_count": null,
   "metadata": {},
   "outputs": [],
   "source": []
  }
 ],
 "metadata": {
  "kernelspec": {
   "display_name": "Python 3",
   "language": "python",
   "name": "python3"
  },
  "language_info": {
   "codemirror_mode": {
    "name": "ipython",
    "version": 3
   },
   "file_extension": ".py",
   "mimetype": "text/x-python",
   "name": "python",
   "nbconvert_exporter": "python",
   "pygments_lexer": "ipython3",
   "version": "3.8.3"
  }
 },
 "nbformat": 4,
 "nbformat_minor": 4
}
